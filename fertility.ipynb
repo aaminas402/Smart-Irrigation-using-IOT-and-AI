{
 "cells": [
  {
   "cell_type": "code",
   "execution_count": 121,
   "id": "fe98642a-7a50-484d-8b8d-fe33acfff051",
   "metadata": {},
   "outputs": [],
   "source": [
    "import numpy as np\n",
    "import pandas as pd\n",
    "from sklearn.model_selection import train_test_split\n",
    "from sklearn.preprocessing import StandardScaler\n",
    "from sklearn.ensemble import RandomForestRegressor\n",
    "from sklearn.metrics import mean_absolute_error\n",
    "from sklearn.impute import SimpleImputer"
   ]
  },
  {
   "cell_type": "code",
   "execution_count": 122,
   "id": "980b5804-6fd1-4002-a37d-c22ebb998946",
   "metadata": {
    "scrolled": true
   },
   "outputs": [
    {
     "data": {
      "text/html": [
       "<div>\n",
       "<style scoped>\n",
       "    .dataframe tbody tr th:only-of-type {\n",
       "        vertical-align: middle;\n",
       "    }\n",
       "\n",
       "    .dataframe tbody tr th {\n",
       "        vertical-align: top;\n",
       "    }\n",
       "\n",
       "    .dataframe thead th {\n",
       "        text-align: right;\n",
       "    }\n",
       "</style>\n",
       "<table border=\"1\" class=\"dataframe\">\n",
       "  <thead>\n",
       "    <tr style=\"text-align: right;\">\n",
       "      <th></th>\n",
       "      <th>SoilMoisture</th>\n",
       "      <th>Rainfall</th>\n",
       "      <th>Humidity</th>\n",
       "      <th>Temperature</th>\n",
       "      <th>GrowthStage</th>\n",
       "      <th>NitrogenNeeded</th>\n",
       "      <th>PhosphorusNeeded</th>\n",
       "      <th>PotassiumNeeded</th>\n",
       "      <th>SoilpH</th>\n",
       "    </tr>\n",
       "  </thead>\n",
       "  <tbody>\n",
       "    <tr>\n",
       "      <th>0</th>\n",
       "      <td>450.0</td>\n",
       "      <td>20.0</td>\n",
       "      <td>65.0</td>\n",
       "      <td>25.0</td>\n",
       "      <td>1.0</td>\n",
       "      <td>50.0</td>\n",
       "      <td>30.0</td>\n",
       "      <td>40.0</td>\n",
       "      <td>6.5</td>\n",
       "    </tr>\n",
       "    <tr>\n",
       "      <th>1</th>\n",
       "      <td>460.0</td>\n",
       "      <td>25.0</td>\n",
       "      <td>70.0</td>\n",
       "      <td>24.0</td>\n",
       "      <td>1.0</td>\n",
       "      <td>55.0</td>\n",
       "      <td>32.0</td>\n",
       "      <td>42.0</td>\n",
       "      <td>6.8</td>\n",
       "    </tr>\n",
       "    <tr>\n",
       "      <th>2</th>\n",
       "      <td>470.0</td>\n",
       "      <td>30.0</td>\n",
       "      <td>75.0</td>\n",
       "      <td>23.0</td>\n",
       "      <td>2.0</td>\n",
       "      <td>60.0</td>\n",
       "      <td>35.0</td>\n",
       "      <td>45.0</td>\n",
       "      <td>7.0</td>\n",
       "    </tr>\n",
       "    <tr>\n",
       "      <th>3</th>\n",
       "      <td>480.0</td>\n",
       "      <td>35.0</td>\n",
       "      <td>80.0</td>\n",
       "      <td>22.0</td>\n",
       "      <td>2.0</td>\n",
       "      <td>65.0</td>\n",
       "      <td>37.0</td>\n",
       "      <td>47.0</td>\n",
       "      <td>6.4</td>\n",
       "    </tr>\n",
       "  </tbody>\n",
       "</table>\n",
       "</div>"
      ],
      "text/plain": [
       "   SoilMoisture  Rainfall  Humidity  Temperature  GrowthStage  NitrogenNeeded  \\\n",
       "0         450.0      20.0      65.0         25.0          1.0            50.0   \n",
       "1         460.0      25.0      70.0         24.0          1.0            55.0   \n",
       "2         470.0      30.0      75.0         23.0          2.0            60.0   \n",
       "3         480.0      35.0      80.0         22.0          2.0            65.0   \n",
       "\n",
       "   PhosphorusNeeded  PotassiumNeeded  SoilpH  \n",
       "0              30.0             40.0     6.5  \n",
       "1              32.0             42.0     6.8  \n",
       "2              35.0             45.0     7.0  \n",
       "3              37.0             47.0     6.4  "
      ]
     },
     "execution_count": 122,
     "metadata": {},
     "output_type": "execute_result"
    }
   ],
   "source": [
    "\n",
    "    data = pd.read_csv(\"data.csv\", encoding='latin1')\n",
    "data.head(4)"
   ]
  },
  {
   "cell_type": "code",
   "execution_count": 126,
   "id": "7f82b271-3b84-4c8f-8aa8-dadc0b6b08b4",
   "metadata": {},
   "outputs": [],
   "source": [
    "X = data[['SoilMoisture', 'Rainfall', 'Humidity', 'Temperature', 'GrowthStage']]\n",
    "y = data[['NitrogenNeeded', 'PhosphorusNeeded', 'PotassiumNeeded']]\n"
   ]
  },
  {
   "cell_type": "code",
   "execution_count": 127,
   "id": "3b0190a1-49fb-4c6c-8841-afdf6e7c8e4e",
   "metadata": {},
   "outputs": [
    {
     "name": "stdout",
     "output_type": "stream",
     "text": [
      "Missing values in features:\n",
      "SoilMoisture    20\n",
      "Rainfall        20\n",
      "Humidity        20\n",
      "Temperature     20\n",
      "GrowthStage     20\n",
      "dtype: int64\n",
      "Missing values in targets:\n",
      "NitrogenNeeded      20\n",
      "PhosphorusNeeded    20\n",
      "PotassiumNeeded     20\n",
      "dtype: int64\n"
     ]
    }
   ],
   "source": [
    "print(\"Missing values in features:\")\n",
    "print(X.isnull().sum())\n",
    "print(\"Missing values in targets:\")\n",
    "print(y.isnull().sum())"
   ]
  },
  {
   "cell_type": "code",
   "execution_count": 128,
   "id": "32217d9f-ee83-4bfd-ad23-dfb91c2f498a",
   "metadata": {},
   "outputs": [],
   "source": [
    "imputer_X = SimpleImputer(strategy='mean')\n",
    "X_imputed = imputer_X.fit_transform(X)\n",
    "\n",
    "imputer_y = SimpleImputer(strategy='mean')\n",
    "y_imputed = imputer_y.fit_transform(y)"
   ]
  },
  {
   "cell_type": "code",
   "execution_count": 129,
   "id": "f3fc35e8-6b6b-4861-9158-763e7e850d20",
   "metadata": {},
   "outputs": [],
   "source": [
    "optimal_nutrients = {\n",
    "    1: {'Nitrogen': 10, 'Phosphorus': 5, 'Potassium': 8},  # Example values for growth stage 1\n",
    "    2: {'Nitrogen': 15, 'Phosphorus': 7, 'Potassium': 12}, # Example values for growth stage 2\n",
    "    3: {'Nitrogen': 20, 'Phosphorus': 10, 'Potassium': 15}, # Example values for growth stage 3\n",
    "    # Add more stages as needed\n",
    "}"
   ]
  },
  {
   "cell_type": "code",
   "execution_count": 130,
   "id": "05f5cebd-e8c5-4dec-816a-69677426264a",
   "metadata": {},
   "outputs": [],
   "source": [
    "\n",
    "X_train, X_test, y_train, y_test = train_test_split(X_imputed, y_imputed, test_size=0.2, random_state=42)\n"
   ]
  },
  {
   "cell_type": "code",
   "execution_count": 131,
   "id": "b98c90c8-9f51-41a1-8243-c9fb391326c9",
   "metadata": {},
   "outputs": [],
   "source": [
    "scaler = StandardScaler()\n",
    "X_train_scaled = scaler.fit_transform(X_train)\n",
    "X_test_scaled = scaler.transform(X_test)"
   ]
  },
  {
   "cell_type": "code",
   "execution_count": 132,
   "id": "9d0b2eb1-3648-47a5-9972-32ec461f113a",
   "metadata": {},
   "outputs": [],
   "source": [
    "model = RandomForestRegressor(n_estimators=100, random_state=42)"
   ]
  },
  {
   "cell_type": "code",
   "execution_count": 133,
   "id": "2fb098d4-7570-444f-bbf7-f4d860b20172",
   "metadata": {},
   "outputs": [
    {
     "data": {
      "text/html": [
       "<style>#sk-container-id-1 {color: black;background-color: white;}#sk-container-id-1 pre{padding: 0;}#sk-container-id-1 div.sk-toggleable {background-color: white;}#sk-container-id-1 label.sk-toggleable__label {cursor: pointer;display: block;width: 100%;margin-bottom: 0;padding: 0.3em;box-sizing: border-box;text-align: center;}#sk-container-id-1 label.sk-toggleable__label-arrow:before {content: \"▸\";float: left;margin-right: 0.25em;color: #696969;}#sk-container-id-1 label.sk-toggleable__label-arrow:hover:before {color: black;}#sk-container-id-1 div.sk-estimator:hover label.sk-toggleable__label-arrow:before {color: black;}#sk-container-id-1 div.sk-toggleable__content {max-height: 0;max-width: 0;overflow: hidden;text-align: left;background-color: #f0f8ff;}#sk-container-id-1 div.sk-toggleable__content pre {margin: 0.2em;color: black;border-radius: 0.25em;background-color: #f0f8ff;}#sk-container-id-1 input.sk-toggleable__control:checked~div.sk-toggleable__content {max-height: 200px;max-width: 100%;overflow: auto;}#sk-container-id-1 input.sk-toggleable__control:checked~label.sk-toggleable__label-arrow:before {content: \"▾\";}#sk-container-id-1 div.sk-estimator input.sk-toggleable__control:checked~label.sk-toggleable__label {background-color: #d4ebff;}#sk-container-id-1 div.sk-label input.sk-toggleable__control:checked~label.sk-toggleable__label {background-color: #d4ebff;}#sk-container-id-1 input.sk-hidden--visually {border: 0;clip: rect(1px 1px 1px 1px);clip: rect(1px, 1px, 1px, 1px);height: 1px;margin: -1px;overflow: hidden;padding: 0;position: absolute;width: 1px;}#sk-container-id-1 div.sk-estimator {font-family: monospace;background-color: #f0f8ff;border: 1px dotted black;border-radius: 0.25em;box-sizing: border-box;margin-bottom: 0.5em;}#sk-container-id-1 div.sk-estimator:hover {background-color: #d4ebff;}#sk-container-id-1 div.sk-parallel-item::after {content: \"\";width: 100%;border-bottom: 1px solid gray;flex-grow: 1;}#sk-container-id-1 div.sk-label:hover label.sk-toggleable__label {background-color: #d4ebff;}#sk-container-id-1 div.sk-serial::before {content: \"\";position: absolute;border-left: 1px solid gray;box-sizing: border-box;top: 0;bottom: 0;left: 50%;z-index: 0;}#sk-container-id-1 div.sk-serial {display: flex;flex-direction: column;align-items: center;background-color: white;padding-right: 0.2em;padding-left: 0.2em;position: relative;}#sk-container-id-1 div.sk-item {position: relative;z-index: 1;}#sk-container-id-1 div.sk-parallel {display: flex;align-items: stretch;justify-content: center;background-color: white;position: relative;}#sk-container-id-1 div.sk-item::before, #sk-container-id-1 div.sk-parallel-item::before {content: \"\";position: absolute;border-left: 1px solid gray;box-sizing: border-box;top: 0;bottom: 0;left: 50%;z-index: -1;}#sk-container-id-1 div.sk-parallel-item {display: flex;flex-direction: column;z-index: 1;position: relative;background-color: white;}#sk-container-id-1 div.sk-parallel-item:first-child::after {align-self: flex-end;width: 50%;}#sk-container-id-1 div.sk-parallel-item:last-child::after {align-self: flex-start;width: 50%;}#sk-container-id-1 div.sk-parallel-item:only-child::after {width: 0;}#sk-container-id-1 div.sk-dashed-wrapped {border: 1px dashed gray;margin: 0 0.4em 0.5em 0.4em;box-sizing: border-box;padding-bottom: 0.4em;background-color: white;}#sk-container-id-1 div.sk-label label {font-family: monospace;font-weight: bold;display: inline-block;line-height: 1.2em;}#sk-container-id-1 div.sk-label-container {text-align: center;}#sk-container-id-1 div.sk-container {/* jupyter's `normalize.less` sets `[hidden] { display: none; }` but bootstrap.min.css set `[hidden] { display: none !important; }` so we also need the `!important` here to be able to override the default hidden behavior on the sphinx rendered scikit-learn.org. See: https://github.com/scikit-learn/scikit-learn/issues/21755 */display: inline-block !important;position: relative;}#sk-container-id-1 div.sk-text-repr-fallback {display: none;}</style><div id=\"sk-container-id-1\" class=\"sk-top-container\"><div class=\"sk-text-repr-fallback\"><pre>RandomForestRegressor(random_state=42)</pre><b>In a Jupyter environment, please rerun this cell to show the HTML representation or trust the notebook. <br />On GitHub, the HTML representation is unable to render, please try loading this page with nbviewer.org.</b></div><div class=\"sk-container\" hidden><div class=\"sk-item\"><div class=\"sk-estimator sk-toggleable\"><input class=\"sk-toggleable__control sk-hidden--visually\" id=\"sk-estimator-id-1\" type=\"checkbox\" checked><label for=\"sk-estimator-id-1\" class=\"sk-toggleable__label sk-toggleable__label-arrow\">RandomForestRegressor</label><div class=\"sk-toggleable__content\"><pre>RandomForestRegressor(random_state=42)</pre></div></div></div></div></div>"
      ],
      "text/plain": [
       "RandomForestRegressor(random_state=42)"
      ]
     },
     "execution_count": 133,
     "metadata": {},
     "output_type": "execute_result"
    }
   ],
   "source": [
    "model.fit(X_train_scaled, y_train)"
   ]
  },
  {
   "cell_type": "code",
   "execution_count": 134,
   "id": "0e92b08b-7ee7-494a-b000-2a7a2e396227",
   "metadata": {},
   "outputs": [
    {
     "name": "stdout",
     "output_type": "stream",
     "text": [
      "Mean Absolute Error on Test Data: 0.76\n"
     ]
    }
   ],
   "source": [
    "y_pred = model.predict(X_test_scaled)\n",
    "mae = mean_absolute_error(y_test, y_pred)\n",
    "print(f\"Mean Absolute Error on Test Data: {mae:.2f}\")"
   ]
  },
  {
   "cell_type": "code",
   "execution_count": 135,
   "id": "5d9cedae-a41f-47b2-b3a4-04b215dee070",
   "metadata": {},
   "outputs": [],
   "source": [
    "test_data = pd.DataFrame([[40, 10, 65, 26, 2]], columns=['SoilMoisture', 'Rainfall', 'Humidity', 'Temperature', 'GrowthStage'])\n"
   ]
  },
  {
   "cell_type": "code",
   "execution_count": 136,
   "id": "3e835d35-2a13-4f90-9382-657da068c05c",
   "metadata": {},
   "outputs": [],
   "source": [
    "test_data_imputed = imputer_X.transform(test_data)\n",
    "test_data_scaled = scaler.transform(test_data_imputed)\n"
   ]
  },
  {
   "cell_type": "code",
   "execution_count": 137,
   "id": "130d71b7-d1a9-466e-8e6c-e6893d2bb45f",
   "metadata": {},
   "outputs": [],
   "source": [
    "prediction = model.predict(test_data_scaled)\n",
    "predicted_nitrogen = prediction[0][0]\n",
    "predicted_phosphorus = prediction[0][1]\n",
    "predicted_potassium = prediction[0][2]\n"
   ]
  },
  {
   "cell_type": "code",
   "execution_count": 144,
   "id": "f2b58f89-48b8-45a0-9688-8b5640a8de47",
   "metadata": {},
   "outputs": [],
   "source": [
    "test_data_np = test_data.to_numpy()\n",
    "test_data_scaled = scaler.transform(test_data_np)\n"
   ]
  },
  {
   "cell_type": "code",
   "execution_count": 145,
   "id": "20753955-d6e7-4ef3-bccd-06f1c9be36a4",
   "metadata": {},
   "outputs": [],
   "source": [
    "current_nutrients = {'Nitrogen': 8, 'Phosphorus': 4, 'Potassium': 7}\n",
    "\n",
    "# Determine the growth stage\n",
    "growth_stage = int(test_data.iloc[0]['GrowthStage'])"
   ]
  },
  {
   "cell_type": "code",
   "execution_count": 146,
   "id": "5fe5ae78-afe2-4f70-bd71-aceced71d42d",
   "metadata": {},
   "outputs": [],
   "source": [
    "optimal = optimal_nutrients.get(growth_stage, {'Nitrogen': 0, 'Phosphorus': 0, 'Potassium': 0})\n",
    "optimal_nitrogen = optimal['Nitrogen']\n",
    "optimal_phosphorus = optimal['Phosphorus']\n",
    "optimal_potassium = optimal['Potassium']"
   ]
  },
  {
   "cell_type": "code",
   "execution_count": 147,
   "id": "bec46b92-9f10-4999-a560-21575791df6c",
   "metadata": {},
   "outputs": [],
   "source": [
    "def generate_alert(predicted, current, optimal):\n",
    "    if current < optimal:\n",
    "        return \"Increase\" if predicted < optimal else \"Optimal\"\n",
    "    elif current > optimal:\n",
    "        return \"Decrease\" if predicted > optimal else \"Optimal\"\n",
    "    else:\n",
    "        return \"Optimal\"\n",
    "\n",
    "alert_nitrogen = generate_alert(predicted_nitrogen, current_nutrients['Nitrogen'], optimal_nitrogen)\n",
    "alert_phosphorus = generate_alert(predicted_phosphorus, current_nutrients['Phosphorus'], optimal_phosphorus)\n",
    "alert_potassium = generate_alert(predicted_potassium, current_nutrients['Potassium'], optimal_potassium)"
   ]
  },
  {
   "cell_type": "code",
   "execution_count": 148,
   "id": "700f1540-cd05-41b7-b528-59a420a08d27",
   "metadata": {},
   "outputs": [
    {
     "name": "stdout",
     "output_type": "stream",
     "text": [
      "Predicted Nitrogen Need: 57.90 grams/m² (Alert: Optimal)\n",
      "Predicted Phosphorus Need: 33.60 grams/m² (Alert: Optimal)\n",
      "Predicted Potassium Need: 43.60 grams/m² (Alert: Optimal)\n"
     ]
    }
   ],
   "source": [
    "print(f\"Predicted Nitrogen Need: {predicted_nitrogen:.2f} grams/m² (Alert: {alert_nitrogen})\")\n",
    "print(f\"Predicted Phosphorus Need: {predicted_phosphorus:.2f} grams/m² (Alert: {alert_phosphorus})\")\n",
    "print(f\"Predicted Potassium Need: {predicted_potassium:.2f} grams/m² (Alert: {alert_potassium})\")"
   ]
  },
  {
   "cell_type": "code",
   "execution_count": null,
   "id": "11d2a8fb-c532-4569-897c-9b4c157327bd",
   "metadata": {},
   "outputs": [],
   "source": []
  }
 ],
 "metadata": {
  "kernelspec": {
   "display_name": "Python 3 (ipykernel)",
   "language": "python",
   "name": "python3"
  },
  "language_info": {
   "codemirror_mode": {
    "name": "ipython",
    "version": 3
   },
   "file_extension": ".py",
   "mimetype": "text/x-python",
   "name": "python",
   "nbconvert_exporter": "python",
   "pygments_lexer": "ipython3",
   "version": "3.11.7"
  }
 },
 "nbformat": 4,
 "nbformat_minor": 5
}
